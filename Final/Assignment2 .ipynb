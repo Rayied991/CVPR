{
  "nbformat": 4,
  "nbformat_minor": 0,
  "metadata": {
    "colab": {
      "provenance": []
    },
    "kernelspec": {
      "name": "python3",
      "display_name": "Python 3"
    },
    "language_info": {
      "name": "python"
    },
    "accelerator": "GPU",
    "gpuClass": "standard"
  },
  "cells": [
    {
      "cell_type": "code",
      "execution_count": 12,
      "metadata": {
        "id": "nBx04rhuWYI2"
      },
      "outputs": [],
      "source": [
        "!pip install ultralytics -q"
      ]
    },
    {
      "cell_type": "code",
      "source": [
        "from google.colab import drive\n",
        "drive.mount('/content/drive')"
      ],
      "metadata": {
        "colab": {
          "base_uri": "https://localhost:8080/"
        },
        "id": "nv2LQZHyYRFV",
        "outputId": "c4f958d1-5b63-440e-9b58-f92ef652472e"
      },
      "execution_count": 13,
      "outputs": [
        {
          "output_type": "stream",
          "name": "stdout",
          "text": [
            "Drive already mounted at /content/drive; to attempt to forcibly remount, call drive.mount(\"/content/drive\", force_remount=True).\n"
          ]
        }
      ]
    },
    {
      "cell_type": "code",
      "source": [
        "!yolo detect predict model=yolov8x.pt source='/content/aa.jpg'"
      ],
      "metadata": {
        "colab": {
          "base_uri": "https://localhost:8080/"
        },
        "id": "6zEDfWHdWagT",
        "outputId": "8aa3b689-40be-45fc-e3c0-1487b880eb45"
      },
      "execution_count": 20,
      "outputs": [
        {
          "output_type": "stream",
          "name": "stdout",
          "text": [
            "Ultralytics YOLOv8.0.90 🚀 Python-3.10.11 torch-2.0.0+cu118 CUDA:0 (Tesla T4, 15102MiB)\n",
            "YOLOv8x summary (fused): 268 layers, 68200608 parameters, 0 gradients, 257.8 GFLOPs\n",
            "\n",
            "Premature end of JPEG file\n",
            "image 1/1 /content/aa.jpg: 640x640 1 bird, 3 dogs, 97.7ms\n",
            "Speed: 5.3ms preprocess, 97.7ms inference, 2.7ms postprocess per image at shape (1, 3, 640, 640)\n",
            "Results saved to \u001b[1mruns/detect/predict3\u001b[0m\n"
          ]
        }
      ]
    },
    {
      "cell_type": "code",
      "source": [
        "import subprocess\n",
        "\n",
        "input_dir = \"/content/runs/detect/predict\"\n",
        "output_dir = \"/content/runs/detect/predict_jpg\"\n",
        "\n",
        "subprocess.call(f\"mkdir -p {output_dir}\", shell=True)\n",
        "subprocess.call(f\"for file in {input_dir}/*.jpg; do ffmpeg -i \\\"$file\\\" -q:v 1 \\\"{output_dir}/$(basename \\\"$file\\\" .jpg).jpg\\\"; done\", shell=True)\n"
      ],
      "metadata": {
        "colab": {
          "base_uri": "https://localhost:8080/"
        },
        "id": "aH6Vf6UZWbeC",
        "outputId": "84de3d67-dcb6-4c34-9822-c56c297b336e"
      },
      "execution_count": 21,
      "outputs": [
        {
          "output_type": "execute_result",
          "data": {
            "text/plain": [
              "1"
            ]
          },
          "metadata": {},
          "execution_count": 21
        }
      ]
    }
  ]
}