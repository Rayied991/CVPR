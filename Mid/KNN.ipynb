{
 "cells": [
  {
   "cell_type": "code",
   "execution_count": 1,
   "id": "8c7bcadc",
   "metadata": {},
   "outputs": [
    {
     "name": "stdout",
     "output_type": "stream",
     "text": [
      "Python3.9.13 (main, Aug 25 2022, 23:51:50) [MSC v.1916 64 bit (AMD64)]\n",
      "\n",
      "Tensorflow version: 2.11.0\n",
      "Keras version: 2.11.0\n",
      "\n",
      "Pandas version: 1.5.3\n",
      "Scikit-Learn : 1.2.1\n",
      "Numpy version: 1.24.2\n",
      "Matplotlib: 3.7.0\n",
      "\n",
      "GPU is  not available\n",
      "CUDA: False\n"
     ]
    }
   ],
   "source": [
    "import sys\n",
    "import tensorflow as tf\n",
    "import pandas as pd\n",
    "import sklearn as sk\n",
    "import numpy as np\n",
    "import matplotlib\n",
    "\n",
    "print(f\"Python{sys.version}\")\n",
    "print()\n",
    "print(f\"Tensorflow version: {tf.__version__}\")\n",
    "print(f\"Keras version: {tf.keras.__version__}\")\n",
    "print()\n",
    "print(f\"Pandas version: {pd.__version__}\")\n",
    "print(f\"Scikit-Learn : {sk.__version__}\")\n",
    "print(f\"Numpy version: {np.__version__}\")\n",
    "print(f\"Matplotlib: {matplotlib.__version__}\")\n",
    "print()\n",
    "print(\"GPU is \", \"available\" if tf.config.list_physical_devices('GPU') else \"not available\")\n",
    "print(f\"CUDA: {tf.test.is_built_with_cuda()}\")"
   ]
  },
  {
   "cell_type": "code",
   "execution_count": 2,
   "id": "2e78e523",
   "metadata": {},
   "outputs": [
    {
     "data": {
      "text/plain": [
       "'E:\\\\10th Semester\\\\Computer Vision & Pattern Recognition\\\\Github\\\\Mid'"
      ]
     },
     "execution_count": 2,
     "metadata": {},
     "output_type": "execute_result"
    }
   ],
   "source": [
    "pwd\n"
   ]
  },
  {
   "cell_type": "code",
   "execution_count": null,
   "id": "dab37e24",
   "metadata": {},
   "outputs": [],
   "source": []
  }
 ],
 "metadata": {
  "kernelspec": {
   "display_name": "Python 3 (ipykernel)",
   "language": "python",
   "name": "python3"
  },
  "language_info": {
   "codemirror_mode": {
    "name": "ipython",
    "version": 3
   },
   "file_extension": ".py",
   "mimetype": "text/x-python",
   "name": "python",
   "nbconvert_exporter": "python",
   "pygments_lexer": "ipython3",
   "version": "3.9.13"
  }
 },
 "nbformat": 4,
 "nbformat_minor": 5
}
